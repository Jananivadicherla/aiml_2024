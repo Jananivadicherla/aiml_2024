{
  "nbformat": 4,
  "nbformat_minor": 0,
  "metadata": {
    "colab": {
      "provenance": []
    },
    "kernelspec": {
      "name": "python3",
      "display_name": "Python 3"
    },
    "language_info": {
      "name": "python"
    }
  },
  "cells": [
    {
      "cell_type": "code",
      "execution_count": 1,
      "metadata": {
        "id": "2Nfn69bzX54U",
        "colab": {
          "base_uri": "https://localhost:8080/"
        },
        "outputId": "0ca60876-639c-4ec0-912b-05e990ca425c"
      },
      "outputs": [
        {
          "output_type": "stream",
          "name": "stdout",
          "text": [
            "       P.Pravalika  2203A52231  CSE-AIML\n",
            "0       K.Nikhitha  2203A52232  CSE-AIML\n",
            "1        B.Keerthi  2205A41160       ECE\n",
            "2     D.Sucharitha  2203A51279       CSE\n",
            "3     H.Hiranmayee  2205A41072       ECE\n",
            "4       B.Pranathi  2203A51272       CSE\n",
            "5  K.Sree Chandana  2203A51279       CSE\n",
            "6      Ch.Pranathi  2203A52241  CSE-AIML\n"
          ]
        }
      ],
      "source": [
        "import pandas as pd\n",
        "data_tsv=pd.read_csv('/content/Book4.txt',sep='\\t')\n",
        "print(data_tsv)\n"
      ]
    },
    {
      "cell_type": "code",
      "source": [
        "data_csv=pd.read_csv('/content/aiml1.csv')\n",
        "print(data_csv)"
      ],
      "metadata": {
        "colab": {
          "base_uri": "https://localhost:8080/"
        },
        "id": "AP1cnXWiCG9R",
        "outputId": "02c92f33-2a49-4ad7-b0bf-14fdd65434b9"
      },
      "execution_count": 2,
      "outputs": [
        {
          "output_type": "stream",
          "name": "stdout",
          "text": [
            "       P.Pravalika  2203A52231  CSE-AIML\n",
            "0       K.Nikhitha  2203A52232  CSE-AIML\n",
            "1        B.Keerthi  2205A41160       ECE\n",
            "2     D.Sucharitha  2203A51279       CSE\n",
            "3     H.Hiranmayee  2205A41072       ECE\n",
            "4       B.Pranathi  2203A51272       CSE\n",
            "5  K.Sree Chandana  2203A51279       CSE\n",
            "6      Ch.Pranathi  2203A52241  CSE-AIML\n"
          ]
        }
      ]
    },
    {
      "cell_type": "code",
      "source": [
        "data_xlsv=pd.read_excel('/content/aiml.xlsx')\n",
        "print(data_xlsv)"
      ],
      "metadata": {
        "colab": {
          "base_uri": "https://localhost:8080/"
        },
        "id": "4N5qr2uKCh13",
        "outputId": "fb75a4ce-550b-4d53-d8f5-7c57997d5ebc"
      },
      "execution_count": 4,
      "outputs": [
        {
          "output_type": "stream",
          "name": "stdout",
          "text": [
            "       P.Pravalika  2203A52231  CSE-AIML\n",
            "0       K.Nikhitha  2203A52232  CSE-AIML\n",
            "1        B.Keerthi  2205A41160       ECE\n",
            "2     D.Sucharitha  2203A51279       CSE\n",
            "3     H.Hiranmayee  2205A41072       ECE\n",
            "4       B.Pranathi  2203A51272       CSE\n",
            "5  K.Sree Chandana  2203A51279       CSE\n",
            "6      Ch.Pranathi  2203A52241  CSE-AIML\n"
          ]
        }
      ]
    }
  ]
}