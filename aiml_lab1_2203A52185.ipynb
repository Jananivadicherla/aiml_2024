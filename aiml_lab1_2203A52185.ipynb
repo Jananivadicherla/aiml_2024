{
  "nbformat": 4,
  "nbformat_minor": 0,
  "metadata": {
    "colab": {
      "provenance": []
    },
    "kernelspec": {
      "name": "python3",
      "display_name": "Python 3"
    },
    "language_info": {
      "name": "python"
    }
  },
  "cells": [
    {
      "cell_type": "code",
      "execution_count": 1,
      "metadata": {
        "colab": {
          "base_uri": "https://localhost:8080/"
        },
        "id": "wNC55Am3Hyl3",
        "outputId": "57e7c38a-8034-48c9-f9b5-412c77dc52ef"
      },
      "outputs": [
        {
          "output_type": "stream",
          "name": "stdout",
          "text": [
            "list is ==> [1, 2, 3]\n",
            "array is ==> [1 2 3]\n",
            "type of l1 is ==> <class 'list'>\n",
            "type of a is ==> <class 'numpy.ndarray'>\n"
          ]
        }
      ],
      "source": [
        "l1=[1,2,3]\n",
        "import numpy as np\n",
        "a=np.array(l1)\n",
        "print(\"list is ==>\",l1)\n",
        "print(\"array is ==>\",a)\n",
        "print(\"type of l1 is ==>\",type(l1))\n",
        "print(\"type of a is ==>\",type(a))"
      ]
    },
    {
      "cell_type": "code",
      "source": [
        "a1=np.array([1,2,3])\n",
        "a2=np.array([4,5,6])\n",
        "print(\"addition of two arrays is ==>\",a1+a2)\n",
        "print(\"multiplication of two arrays is ==>\",a1*a2)\n",
        "print(\"division of two arrays is ==>\",a1/a2)\n",
        "print(\"poweroff of two arrays is ==>\",a1**a2)"
      ],
      "metadata": {
        "colab": {
          "base_uri": "https://localhost:8080/"
        },
        "id": "pNrG12fqIg0B",
        "outputId": "997a3d71-8b53-49f3-fc9b-3dcf58d24868"
      },
      "execution_count": 6,
      "outputs": [
        {
          "output_type": "stream",
          "name": "stdout",
          "text": [
            "addition of two arrays is ==> [5 7 9]\n",
            "multiplication of two arrays is ==> [ 4 10 18]\n",
            "division of two arrays is ==> [0.25 0.4  0.5 ]\n",
            "poweroff of two arrays is ==> [  1  32 729]\n"
          ]
        }
      ]
    },
    {
      "cell_type": "code",
      "source": [
        "print(\"sin values are ==>\",np.sin(a1))\n",
        "print(\"log() values are ==>\",np.log(a1))\n",
        "print(\"log2() values are ==>\",np.log2(a1))\n",
        "print(\"exponent values are ==>\",np.exp(a1))"
      ],
      "metadata": {
        "colab": {
          "base_uri": "https://localhost:8080/"
        },
        "id": "Lb9hvnlxJD3r",
        "outputId": "8440b285-fd44-43fc-8d28-ecc6a72b19a8"
      },
      "execution_count": 12,
      "outputs": [
        {
          "output_type": "stream",
          "name": "stdout",
          "text": [
            "sin values are ==> [0.84147098 0.90929743 0.14112001]\n",
            "log() values are ==> [0.         0.69314718 1.09861229]\n",
            "log2() values are ==> [0.        1.        1.5849625]\n",
            "exponent values are ==> [ 2.71828183  7.3890561  20.08553692]\n"
          ]
        }
      ]
    },
    {
      "cell_type": "code",
      "source": [],
      "metadata": {
        "id": "6yil4jAoKF-r"
      },
      "execution_count": null,
      "outputs": []
    }
  ]
}