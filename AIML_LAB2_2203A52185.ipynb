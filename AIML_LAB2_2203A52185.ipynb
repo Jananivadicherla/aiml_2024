{
  "nbformat": 4,
  "nbformat_minor": 0,
  "metadata": {
    "colab": {
      "provenance": []
    },
    "kernelspec": {
      "name": "python3",
      "display_name": "Python 3"
    },
    "language_info": {
      "name": "python"
    }
  },
  "cells": [
    {
      "cell_type": "code",
      "execution_count": null,
      "metadata": {
        "colab": {
          "base_uri": "https://localhost:8080/"
        },
        "id": "GJd0M4MuVLP1",
        "outputId": "63d95d16-792a-4114-8e63-664aa757dc7c"
      },
      "outputs": [
        {
          "output_type": "stream",
          "name": "stdout",
          "text": [
            "0 1 3 2 4 5 "
          ]
        }
      ],
      "source": [
        "from collections import deque\n",
        "\n",
        "def bfs(graph, start):\n",
        "   visited = set()\n",
        "   queue = deque([start])\n",
        "\n",
        "   while queue:\n",
        "       node = queue.popleft()\n",
        "       if node not in visited:\n",
        "           visited.add(node)\n",
        "           print(node, end=\" \")\n",
        "           for neighbor in graph[node]:\n",
        "               queue.append(neighbor)\n",
        "graph = {\n",
        "   '0': ['1', '3'],\n",
        "   '1': ['2', '3'],\n",
        "   '2': ['1','5','4'],\n",
        "   '3': ['0','1','4'],\n",
        "   '4': ['2','3','5'],\n",
        "   '5': ['2','4']\n",
        "}\n",
        "start = '0'\n",
        "bfs(graph, start)\n"
      ]
    },
    {
      "cell_type": "code",
      "source": [
        "def dfs(graph, start):\n",
        "    visited = set()\n",
        "    stack = [start]\n",
        "    while stack:\n",
        "        node = stack.pop()\n",
        "        if node not in visited:\n",
        "            visited.add(node)\n",
        "            print(node, end=\" \")\n",
        "            for neighbor in graph[node]:\n",
        "                stack.append(neighbor)\n",
        "graph = {\n",
        "    'A': ['B', 'S'],\n",
        "    'B': ['A'],\n",
        "    'C': ['D','E','F','S'],\n",
        "    'D': ['C'],\n",
        "    'E': ['C','H'],\n",
        "    'F': ['C','G'],\n",
        "    'G': ['F','H','S'],\n",
        "    'H': ['E','G'],\n",
        "    'S': ['A','C','G']\n",
        "}\n",
        "start = 'A'\n",
        "dfs(graph, start)\n"
      ],
      "metadata": {
        "colab": {
          "base_uri": "https://localhost:8080/"
        },
        "id": "DBW_e5DXV8u1",
        "outputId": "0a7fdc3d-9410-4a13-86fc-555dd215bfcc"
      },
      "execution_count": null,
      "outputs": [
        {
          "output_type": "stream",
          "name": "stdout",
          "text": [
            "A S G H E C F D B "
          ]
        }
      ]
    }
  ]
}